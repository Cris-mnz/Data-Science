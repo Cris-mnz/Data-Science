{
 "cells": [
  {
   "cell_type": "markdown",
   "id": "bcd6eb8b",
   "metadata": {},
   "source": [
    "# Promedio"
   ]
  },
  {
   "cell_type": "code",
   "execution_count": 1,
   "id": "0985b2dc",
   "metadata": {},
   "outputs": [
    {
     "data": {
      "text/plain": [
       "3.0"
      ]
     },
     "execution_count": 1,
     "metadata": {},
     "output_type": "execute_result"
    }
   ],
   "source": [
    "lista = [1,2,3,4,5]\n",
    "def media(lista):\n",
    "    suma = 0\n",
    "    for i in range(len(lista)):\n",
    "        suma += lista[i]\n",
    "    ans = suma/len(lista)\n",
    "    return ans\n",
    "media(lista)"
   ]
  },
  {
   "cell_type": "markdown",
   "id": "894f6d0f",
   "metadata": {},
   "source": [
    "# Moda"
   ]
  },
  {
   "cell_type": "code",
   "execution_count": 40,
   "id": "43e01bb9",
   "metadata": {},
   "outputs": [
    {
     "name": "stdout",
     "output_type": "stream",
     "text": [
      "12\n",
      "2\n"
     ]
    }
   ],
   "source": [
    "lista = [12, 45, 7, 23, 66, 42, 19, 8, 12, 19, 7]\n",
    "def calculadora_moda(lista):\n",
    "    if len(lista) == 0:\n",
    "        return None\n",
    "\n",
    "    contador = {}\n",
    "    for elemento in lista:\n",
    "        if elemento in contador:\n",
    "            contador[elemento] += 1\n",
    "        else:\n",
    "            contador[elemento] = 1\n",
    "\n",
    "    moda = None\n",
    "    frecuencia_max = 0\n",
    "\n",
    "    for elemento, frecuencia in contador.items():\n",
    "        if frecuencia > frecuencia_max:\n",
    "            moda = elemento\n",
    "            frecuencia_max = frecuencia\n",
    "\n",
    "    return moda, frecuencia_max\n",
    "\n",
    "moda, frecuencia = calculadora_moda(lista)\n",
    "print(moda)\n",
    "print(frecuencia)"
   ]
  },
  {
   "cell_type": "markdown",
   "id": "ce5a3cc9",
   "metadata": {},
   "source": [
    "# Mediana"
   ]
  },
  {
   "cell_type": "code",
   "execution_count": 35,
   "id": "bf0bfb24",
   "metadata": {},
   "outputs": [
    {
     "data": {
      "text/plain": [
       "17.5"
      ]
     },
     "execution_count": 35,
     "metadata": {},
     "output_type": "execute_result"
    }
   ],
   "source": [
    "lista = [12, 45, 7, 23,42, 8]\n",
    "\n",
    "def calcular_mediana(lista):\n",
    "    ordenada = sorted(lista)\n",
    "    n = len(ordenada)\n",
    "\n",
    "    if n % 2 == 0:\n",
    "        \n",
    "        medio1 = ordenada[n // 2 - 1]\n",
    "        medio2 = ordenada[n // 2]\n",
    "        mediana = (medio1 + medio2) / 2\n",
    "    else:\n",
    "        \n",
    "        mediana = ordenada[n // 2]\n",
    "\n",
    "    return mediana\n",
    "\n",
    "mediana = calcular_mediana(lista)\n",
    "mediana\n"
   ]
  },
  {
   "cell_type": "markdown",
   "id": "0b388a9c",
   "metadata": {},
   "source": [
    "# Rango"
   ]
  },
  {
   "cell_type": "code",
   "execution_count": 34,
   "id": "d8add021",
   "metadata": {},
   "outputs": [
    {
     "data": {
      "text/plain": [
       "59"
      ]
     },
     "execution_count": 34,
     "metadata": {},
     "output_type": "execute_result"
    }
   ],
   "source": [
    "lista = [12, 45, 7, 23, 66, 42, 19, 8]\n",
    "\n",
    "def rango(lista):\n",
    "    if len(lista) == 0:\n",
    "        return None\n",
    "\n",
    "    min_valor = lista[0]\n",
    "    max_valor = lista[0]\n",
    "\n",
    "    for num in lista:\n",
    "        if num < min_valor:\n",
    "            min_valor = num\n",
    "        if num > max_valor:\n",
    "            max_valor = num\n",
    "\n",
    "    rango = max_valor - min_valor\n",
    "\n",
    "    return rango\n",
    "\n",
    "rambo = rango(lista)\n",
    "\n",
    "rambo"
   ]
  },
  {
   "cell_type": "markdown",
   "id": "858c0e13",
   "metadata": {},
   "source": [
    "# Varianza"
   ]
  },
  {
   "cell_type": "code",
   "execution_count": 33,
   "id": "a30c0371",
   "metadata": {},
   "outputs": [
    {
     "data": {
      "text/plain": [
       "2.5"
      ]
     },
     "execution_count": 33,
     "metadata": {},
     "output_type": "execute_result"
    }
   ],
   "source": [
    "lista = [1,2,3,4,5]\n",
    "\n",
    "def varianza(lista):\n",
    "    n = len(lista)\n",
    "\n",
    "    if n < 2:\n",
    "        return None\n",
    "\n",
    "   \n",
    "    media = sum(lista) / n\n",
    "\n",
    "    suma_cuadrados = 0\n",
    "    for x in lista:\n",
    "        suma_cuadrados+= (x - media) ** 2\n",
    "\n",
    "    varianza = suma_cuadrados / (n - 1)\n",
    "\n",
    "    return varianza\n",
    "\n",
    "BaBarianza = varianza(lista)\n",
    "BaBarianza"
   ]
  },
  {
   "cell_type": "markdown",
   "id": "784c06a5",
   "metadata": {},
   "source": [
    "# Desviacion Estandar"
   ]
  },
  {
   "cell_type": "code",
   "execution_count": 37,
   "id": "fd64ca96",
   "metadata": {},
   "outputs": [
    {
     "data": {
      "text/plain": [
       "1.5811388300841898"
      ]
     },
     "execution_count": 37,
     "metadata": {},
     "output_type": "execute_result"
    }
   ],
   "source": [
    "def calcular_desviacion_estandar(BaBarianza):\n",
    "    if BaBarianza is None:\n",
    "        return None\n",
    "\n",
    "    desviacion_estandar = BaBarianza ** 0.5\n",
    "\n",
    "    return desviacion_estandar\n",
    "\n",
    "desviameesta = calcular_desviacion_estandar(BaBarianza)\n",
    "desviameesta"
   ]
  },
  {
   "cell_type": "markdown",
   "id": "3a4dfc7a",
   "metadata": {},
   "source": [
    "# MAD\n"
   ]
  },
  {
   "cell_type": "code",
   "execution_count": 38,
   "id": "d4891e71",
   "metadata": {},
   "outputs": [
    {
     "data": {
      "text/plain": [
       "17.4375"
      ]
     },
     "execution_count": 38,
     "metadata": {},
     "output_type": "execute_result"
    }
   ],
   "source": [
    "lista = [12, 45, 7, 23, 66, 42, 19, 8]\n",
    "\n",
    "def calcular_desviacion_media_absoluta(lista):\n",
    "    n = len(lista)\n",
    "\n",
    "    if n < 2:\n",
    "        return None\n",
    "\n",
    "    media = sum(lista) / n\n",
    "\n",
    "    mad = sum(abs(x - media) for x in lista) / n\n",
    "\n",
    "    return mad\n",
    "\n",
    "desviacion_media_absoluta = calcular_desviacion_media_absoluta(lista)\n",
    "desviacion_media_absoluta\n"
   ]
  },
  {
   "cell_type": "code",
   "execution_count": null,
   "id": "574f74f7",
   "metadata": {},
   "outputs": [],
   "source": []
  }
 ],
 "metadata": {
  "kernelspec": {
   "display_name": "Python 3 (ipykernel)",
   "language": "python",
   "name": "python3"
  },
  "language_info": {
   "codemirror_mode": {
    "name": "ipython",
    "version": 3
   },
   "file_extension": ".py",
   "mimetype": "text/x-python",
   "name": "python",
   "nbconvert_exporter": "python",
   "pygments_lexer": "ipython3",
   "version": "3.8.10"
  }
 },
 "nbformat": 4,
 "nbformat_minor": 5
}
